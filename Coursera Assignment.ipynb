{
  "metadata": {
    "language_info": {
      "codemirror_mode": {
        "name": "python",
        "version": 3
      },
      "file_extension": ".py",
      "mimetype": "text/x-python",
      "name": "python",
      "nbconvert_exporter": "python",
      "pygments_lexer": "ipython3",
      "version": "3.8"
    },
    "kernelspec": {
      "name": "python",
      "display_name": "Pyolite",
      "language": "python"
    }
  },
  "nbformat_minor": 4,
  "nbformat": 4,
  "cells": [
    {
      "cell_type": "markdown",
      "source": "# My Jupyter Notebook on IBM Watson Studio",
      "metadata": {}
    },
    {
      "cell_type": "markdown",
      "source": "**Soham Gokhale**\n<br> Currently I am a Student.",
      "metadata": {}
    },
    {
      "cell_type": "markdown",
      "source": "*I am interested in Data Science because it has a tremendous amount of applications in various fields including Finance, marketing, medicine, etc. Also, it is one of the fastest growing industrial areas.*",
      "metadata": {}
    },
    {
      "cell_type": "markdown",
      "source": "### Sum of two numbers",
      "metadata": {}
    },
    {
      "cell_type": "code",
      "source": "1 + 1 = 2",
      "metadata": {
        "trusted": true
      },
      "execution_count": null,
      "outputs": []
    },
    {
      "cell_type": "markdown",
      "source": "**This is a bulleted list**\n* This is point 1\n* This is point 2\n* This is point 3\n* This is point 4",
      "metadata": {}
    },
    {
      "cell_type": "markdown",
      "source": "`The text is highlighted`",
      "metadata": {}
    },
    {
      "cell_type": "markdown",
      "source": "*** \nThe line is important with horizontal rule\n***",
      "metadata": {}
    },
    {
      "cell_type": "markdown",
      "source": "We create a hyperlink for <a href=\"https://www.google.com/\" target=\"_blank\">Google</a>",
      "metadata": {}
    },
    {
      "cell_type": "code",
      "source": "",
      "metadata": {},
      "execution_count": null,
      "outputs": []
    }
  ]
}